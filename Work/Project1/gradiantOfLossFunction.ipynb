{
 "cells": [
  {
   "cell_type": "code",
   "execution_count": 31,
   "metadata": {},
   "outputs": [
    {
     "name": "stdout",
     "output_type": "stream",
     "text": [
      "[[427.]\n",
      " [509.]\n",
      " [591.]]\n"
     ]
    }
   ],
   "source": [
    "import os\n",
    "os.environ['TF_CPP_MIN_LOG_LEVEL']='2'\n",
    "\n",
    "import numpy as np\n",
    "import tensorflow as tf\n",
    "dim=3\n",
    "c=1\n",
    "w = tf.transpose(tf.Variable([[1.0,2.0,3.0]]))\n",
    "x = np.matrix('1.0 2.0 3.0; 4.0 5.0 6.0;7.0 8.0 9.0')\n",
    "y = tf.transpose(tf.Variable([[4.0,5.0,6.0]]))\n",
    "# quadratic function: f(x) = 1/2 * (Xw-y)^2 + c/2*(w)^2 \n",
    "\n",
    "fx=0.5*tf.pow(tf.matmul(x,tf.cast(w, tf.float64))-tf.cast(y, tf.float64),2)+tf.cast(tf.divide(c,2)*tf.pow(w, 2), tf.float64)\n",
    "dfx = tf.gradients(fx, w)[0]\n",
    "#tf.Print(dfx)\n",
    "#initialize the variable\n",
    "init_op = tf.initialize_all_variables()\n",
    "\n",
    "#run the graph\n",
    "with tf.Session() as sess:\n",
    "    sess.run(init_op) #execute init_op\n",
    "    #print the random values that we sample\n",
    "    print (sess.run(dfx))\n"
   ]
  },
  {
   "cell_type": "code",
   "execution_count": null,
   "metadata": {},
   "outputs": [],
   "source": []
  }
 ],
 "metadata": {
  "kernelspec": {
   "display_name": "Python 3",
   "language": "python",
   "name": "python3"
  },
  "language_info": {
   "codemirror_mode": {
    "name": "ipython",
    "version": 3
   },
   "file_extension": ".py",
   "mimetype": "text/x-python",
   "name": "python",
   "nbconvert_exporter": "python",
   "pygments_lexer": "ipython3",
   "version": "3.6.7"
  }
 },
 "nbformat": 4,
 "nbformat_minor": 2
}
