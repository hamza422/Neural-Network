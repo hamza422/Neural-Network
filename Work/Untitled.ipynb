{
 "cells": [
  {
   "cell_type": "code",
   "execution_count": 2,
   "metadata": {},
   "outputs": [
    {
     "data": {
      "text/plain": [
       "[[-0.5454, -0.1818, 0.1818, 0.5454], [-0.1893, 0.5681, -0.1893, -0.1893]]"
      ]
     },
     "execution_count": 2,
     "metadata": {},
     "output_type": "execute_result"
    }
   ],
   "source": [
    "import numpy as np\n",
    "\n",
    "a=[[-0.5454,-0.1818,0.1818,0.5454],[-0.1893,0.5681,-0.1893,-0.1893]]\n",
    "\n",
    "\n"
   ]
  },
  {
   "cell_type": "code",
   "execution_count": 4,
   "metadata": {},
   "outputs": [
    {
     "ename": "AttributeError",
     "evalue": "'list' object has no attribute 'transpose'",
     "output_type": "error",
     "traceback": [
      "\u001b[1;31m---------------------------------------------------------------------------\u001b[0m",
      "\u001b[1;31mAttributeError\u001b[0m                            Traceback (most recent call last)",
      "\u001b[1;32m<ipython-input-4-f0e2b0b8f118>\u001b[0m in \u001b[0;36m<module>\u001b[1;34m\u001b[0m\n\u001b[0;32m      2\u001b[0m \u001b[1;33m\u001b[0m\u001b[0m\n\u001b[0;32m      3\u001b[0m \u001b[0ma\u001b[0m\u001b[1;33m=\u001b[0m\u001b[1;33m[\u001b[0m\u001b[1;33m[\u001b[0m\u001b[1;33m-\u001b[0m\u001b[1;36m0.5454\u001b[0m\u001b[1;33m,\u001b[0m\u001b[1;33m-\u001b[0m\u001b[1;36m0.1818\u001b[0m\u001b[1;33m,\u001b[0m\u001b[1;36m0.1818\u001b[0m\u001b[1;33m,\u001b[0m\u001b[1;36m0.5454\u001b[0m\u001b[1;33m]\u001b[0m\u001b[1;33m,\u001b[0m\u001b[1;33m[\u001b[0m\u001b[1;33m-\u001b[0m\u001b[1;36m0.1893\u001b[0m\u001b[1;33m,\u001b[0m\u001b[1;36m0.5681\u001b[0m\u001b[1;33m,\u001b[0m\u001b[1;33m-\u001b[0m\u001b[1;36m0.1893\u001b[0m\u001b[1;33m,\u001b[0m\u001b[1;33m-\u001b[0m\u001b[1;36m0.1893\u001b[0m\u001b[1;33m]\u001b[0m\u001b[1;33m]\u001b[0m\u001b[1;33m\u001b[0m\u001b[1;33m\u001b[0m\u001b[0m\n\u001b[1;32m----> 4\u001b[1;33m \u001b[0mb\u001b[0m\u001b[1;33m=\u001b[0m\u001b[0ma\u001b[0m\u001b[1;33m.\u001b[0m\u001b[0mtranspose\u001b[0m\u001b[1;33m(\u001b[0m\u001b[1;33m)\u001b[0m\u001b[1;33m\u001b[0m\u001b[1;33m\u001b[0m\u001b[0m\n\u001b[0m\u001b[0;32m      5\u001b[0m \u001b[0mb\u001b[0m\u001b[1;33m\u001b[0m\u001b[1;33m\u001b[0m\u001b[0m\n",
      "\u001b[1;31mAttributeError\u001b[0m: 'list' object has no attribute 'transpose'"
     ]
    }
   ],
   "source": [
    "import numpy as np\n",
    "\n",
    "a=[[-0.5454,-0.1818,0.1818,0.5454],[-0.1893,0.5681,-0.1893,-0.1893]]\n",
    "b=a.transpose()\n",
    "b"
   ]
  },
  {
   "cell_type": "code",
   "execution_count": 5,
   "metadata": {},
   "outputs": [
    {
     "data": {
      "text/plain": [
       "array([[-0.5454, -0.1893],\n",
       "       [-0.1818,  0.5681],\n",
       "       [ 0.1818, -0.1893],\n",
       "       [ 0.5454, -0.1893]])"
      ]
     },
     "execution_count": 5,
     "metadata": {},
     "output_type": "execute_result"
    }
   ],
   "source": [
    "import numpy as np\n",
    "\n",
    "a=np.array([[-0.5454,-0.1818,0.1818,0.5454],[-0.1893,0.5681,-0.1893,-0.1893]])\n",
    "b=a.transpose()\n",
    "b"
   ]
  },
  {
   "cell_type": "code",
   "execution_count": 6,
   "metadata": {},
   "outputs": [
    {
     "data": {
      "text/plain": [
       "array([[ 0.6610248 , -0.13769532],\n",
       "       [-0.13769532,  0.43024108]])"
      ]
     },
     "execution_count": 6,
     "metadata": {},
     "output_type": "execute_result"
    }
   ],
   "source": [
    "np.matmul(a,b)"
   ]
  },
  {
   "cell_type": "code",
   "execution_count": 7,
   "metadata": {},
   "outputs": [
    {
     "data": {
      "text/plain": [
       "array([[ 5.  , -0.5 ],\n",
       "       [-0.5 ,  0.75]])"
      ]
     },
     "execution_count": 7,
     "metadata": {},
     "output_type": "execute_result"
    }
   ],
   "source": [
    "import numpy as np\n",
    "\n",
    "a=np.array([[-1.5,-0.5,0.5,1.5],[-0.25,0.75,-0.25,-0.25]])\n",
    "b=a.transpose()\n",
    "x=np.matmul(a,b)"
   ]
  },
  {
   "cell_type": "code",
   "execution_count": 8,
   "metadata": {},
   "outputs": [],
   "source": [
    "import numpy as np\n",
    "from numpy import linalg as LA\n",
    "\n",
    "a=np.array([[-1.5,-0.5,0.5,1.5],[-0.25,0.75,-0.25,-0.25]])\n",
    "b=a.transpose()\n",
    "x=np.matmul(a,b)\n",
    "w, v = LA.eig(x)"
   ]
  },
  {
   "cell_type": "code",
   "execution_count": 9,
   "metadata": {},
   "outputs": [
    {
     "data": {
      "text/plain": [
       "array([[ 0.99333206,  0.1152884 ],\n",
       "       [-0.1152884 ,  0.99333206]])"
      ]
     },
     "execution_count": 9,
     "metadata": {},
     "output_type": "execute_result"
    }
   ],
   "source": [
    "import numpy as np\n",
    "from numpy import linalg as LA\n",
    "\n",
    "a=np.array([[-1.5,-0.5,0.5,1.5],[-0.25,0.75,-0.25,-0.25]])\n",
    "b=a.transpose()\n",
    "x=np.matmul(a,b)\n",
    "w, v = LA.eig(x)\n",
    "w;v\n"
   ]
  },
  {
   "cell_type": "code",
   "execution_count": 14,
   "metadata": {},
   "outputs": [
    {
     "name": "stdout",
     "output_type": "stream",
     "text": [
      "[[ 0.99333206  0.1152884 ]\n",
      " [-0.1152884   0.99333206]]\n",
      "[5.05803115 0.69196885]\n"
     ]
    }
   ],
   "source": [
    "import numpy as np\n",
    "from numpy import linalg as LA\n",
    "\n",
    "a=np.array([[-1.5,-0.5,0.5,1.5],[-0.25,0.75,-0.25,-0.25]])\n",
    "b=a.transpose()\n",
    "x=np.matmul(a,b)\n",
    "w, v = LA.eig(x)\n",
    "print(v)\n",
    "print(w)\n",
    "\n"
   ]
  },
  {
   "cell_type": "code",
   "execution_count": 15,
   "metadata": {},
   "outputs": [],
   "source": [
    "import numpy as np\n",
    "a=np.array([[-1.5,-0.5,0.5,1.5],[-0.25,0.75,-0.25,-0.25]])\n",
    "b=a.transpose()"
   ]
  },
  {
   "cell_type": "code",
   "execution_count": 16,
   "metadata": {},
   "outputs": [
    {
     "data": {
      "text/plain": [
       "array([[-1.5 , -0.25],\n",
       "       [-0.5 ,  0.75],\n",
       "       [ 0.5 , -0.25],\n",
       "       [ 1.5 , -0.25]])"
      ]
     },
     "execution_count": 16,
     "metadata": {},
     "output_type": "execute_result"
    }
   ],
   "source": [
    "b"
   ]
  },
  {
   "cell_type": "code",
   "execution_count": 17,
   "metadata": {},
   "outputs": [
    {
     "data": {
      "text/plain": [
       "array([-1.462, -0.579,  0.524,  1.517])"
      ]
     },
     "execution_count": 17,
     "metadata": {},
     "output_type": "execute_result"
    }
   ],
   "source": [
    "v=([0.993,-0.11])\n",
    "x=np.matmul(b,v)\n",
    "x"
   ]
  },
  {
   "cell_type": "code",
   "execution_count": 18,
   "metadata": {},
   "outputs": [
    {
     "name": "stdout",
     "output_type": "stream",
     "text": [
      "[[-0.99333206 -0.1152884 ]\n",
      " [ 0.1152884  -0.99333206]]\n",
      "[0.69196885 5.05803115]\n"
     ]
    }
   ],
   "source": [
    "import numpy as np\n",
    "from numpy import linalg as LA\n",
    "a=np.array([[0.25,-0.75,0.25,0.25],[-1.5,-0.5,0.5,1.5]])\n",
    "b=a.transpose()\n",
    "x=np.matmul(a,b)\n",
    "\n",
    "w, v = LA.eig(x)\n",
    "print(v)\n",
    "print(w)\n"
   ]
  },
  {
   "cell_type": "code",
   "execution_count": 19,
   "metadata": {},
   "outputs": [
    {
     "name": "stdout",
     "output_type": "stream",
     "text": [
      "[[0.75 0.5 ]\n",
      " [0.5  5.  ]]\n",
      "[[-0.99333206 -0.1152884 ]\n",
      " [ 0.1152884  -0.99333206]]\n",
      "[0.69196885 5.05803115]\n"
     ]
    }
   ],
   "source": [
    "import numpy as np\n",
    "from numpy import linalg as LA\n",
    "a=np.array([[0.25,-0.75,0.25,0.25],[-1.5,-0.5,0.5,1.5]])\n",
    "b=a.transpose()\n",
    "x=np.matmul(a,b)\n",
    "print(x)\n",
    "w, v = LA.eig(x)\n",
    "print(v)\n",
    "print(w)"
   ]
  },
  {
   "cell_type": "code",
   "execution_count": 21,
   "metadata": {},
   "outputs": [
    {
     "data": {
      "text/plain": [
       "array([-1.46095, -0.58365,  0.52565,  1.51895])"
      ]
     },
     "execution_count": 21,
     "metadata": {},
     "output_type": "execute_result"
    }
   ],
   "source": [
    "v=([0.116,0.9933])\n",
    "x=np.matmul(b,v)\n",
    "x"
   ]
  },
  {
   "cell_type": "code",
   "execution_count": null,
   "metadata": {},
   "outputs": [],
   "source": []
  }
 ],
 "metadata": {
  "kernelspec": {
   "display_name": "Python 3",
   "language": "python",
   "name": "python3"
  },
  "language_info": {
   "codemirror_mode": {
    "name": "ipython",
    "version": 3
   },
   "file_extension": ".py",
   "mimetype": "text/x-python",
   "name": "python",
   "nbconvert_exporter": "python",
   "pygments_lexer": "ipython3",
   "version": "3.6.7"
  }
 },
 "nbformat": 4,
 "nbformat_minor": 2
}
